{
 "cells": [
  {
   "cell_type": "code",
   "execution_count": 2,
   "metadata": {},
   "outputs": [
    {
     "name": "stdout",
     "output_type": "stream",
     "text": [
      "gav\n",
      "mau\n",
      "mu\n"
     ]
    }
   ],
   "source": [
    "\"\"\"Создайте класс Animal с методом make_sound(). Затем создайте несколько дочерних классов \n",
    "(например, Dog, Cat, Cow), которые наследуют Animal, но изменяют его поведение (метод make_sound()). \n",
    "В конце создайте список содержащий экземпляры этих животных и вызовите make_sound() \n",
    "для каждого животного в цикле.\"\"\"\n",
    "\n",
    "class Animal():\n",
    "    def make_sound(self):\n",
    "        pass\n",
    "class Dog(Animal):\n",
    "    def make_sound(self):\n",
    "        print(\"gav\")\n",
    "class Cat(Animal):\n",
    "    def make_sound(self):\n",
    "        print(\"mau\")\n",
    "class Cow(Animal):\n",
    "    def make_sound(self):\n",
    "        print(\"mu\")\n",
    "animals = [Dog(),Cat(), Cow()]\n",
    "for animal in animals:\n",
    "    animal.make_sound()"
   ]
  },
  {
   "cell_type": "code",
   "execution_count": 17,
   "metadata": {},
   "outputs": [
    {
     "name": "stdout",
     "output_type": "stream",
     "text": [
      "Площадь - 78.5\n",
      "Площадь - 49\n"
     ]
    }
   ],
   "source": [
    "\"\"\"cоздать базовый класс Shape с методом area(), который просто возвращает 0.\n",
    "Создать несколько производных классов для разных форм (например, Circle, Rectangle, Square), \n",
    "каждый из которых переопределяет метод area().\n",
    "В каждом из этих классов метод area() должен возвращать площадь соответствующей фигуры.\n",
    "Написать функцию, которая принимает объект класса Shape и выводит его площадь.\"\"\"\n",
    "\n",
    "class Shape:\n",
    "    def area(self):\n",
    "        return 0\n",
    "\n",
    "class Circle(Shape):\n",
    "    def __init__(self, radius):\n",
    "        self.radius = radius  \n",
    "    def area(self):\n",
    "        return 3.14 * self.radius**2\n",
    "\n",
    "class Rectangle(Shape):\n",
    "    def __init__(self, width, height):\n",
    "        self.width = width\n",
    "        self.height = height\n",
    "\n",
    "    def area(self):\n",
    "        return self.width * self.height\n",
    "\n",
    "\n",
    "class Square(Shape):  \n",
    "    def __init__(self, width):\n",
    "        self.width = width\n",
    "\n",
    "    def area(self):\n",
    "        return self.width**2\n",
    "\n",
    "\n",
    "def print_area(shape):\n",
    "    print(f\"Площадь - {shape.area()}\")\n",
    "\n",
    "\n",
    "circle = Circle(5)\n",
    "square = Square(7)\n",
    "\n",
    "print_area(circle)\n",
    "print_area(square)\n"
   ]
  },
  {
   "cell_type": "code",
   "execution_count": 19,
   "metadata": {},
   "outputs": [
    {
     "name": "stdout",
     "output_type": "stream",
     "text": [
      "War and Peace - Tolstoy\n"
     ]
    }
   ],
   "source": [
    "#Создайте класс Author и класс Book. Класс Book должен использовать \n",
    "#композицию для включения автора в качестве объекта.\n",
    "\n",
    "class Author:\n",
    "    def __init__(self, name, nationality):\n",
    "        self.name = name\n",
    "        self.nationality = nationality  # Исправлено название атрибута\n",
    "\n",
    "class Book:\n",
    "    def __init__(self, title, author):\n",
    "        self.title = title\n",
    "        self.author = author\n",
    "\n",
    "    def get_info_book(self):  # Исправлено название метода\n",
    "        print(f\"{self.title} - {self.author.name}\")\n",
    "\n",
    "# Создание объектов\n",
    "author = Author(\"Tolstoy\", \"RU\")\n",
    "book = Book(\"War and Peace\", author)\n",
    "\n",
    "# Вызов метода\n",
    "book.get_info_book()\n",
    "\n",
    "\n",
    "\n",
    "\n"
   ]
  }
 ],
 "metadata": {
  "kernelspec": {
   "display_name": "base",
   "language": "python",
   "name": "python3"
  },
  "language_info": {
   "codemirror_mode": {
    "name": "ipython",
    "version": 3
   },
   "file_extension": ".py",
   "mimetype": "text/x-python",
   "name": "python",
   "nbconvert_exporter": "python",
   "pygments_lexer": "ipython3",
   "version": "3.12.7"
  }
 },
 "nbformat": 4,
 "nbformat_minor": 2
}

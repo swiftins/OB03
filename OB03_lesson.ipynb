{
 "cells": [
  {
   "cell_type": "code",
   "execution_count": null,
   "metadata": {},
   "outputs": [],
   "source": [
    "class Engine():\n",
    "    def start(self):\n",
    "        print(\"двигатель запущен\")\n",
    "    def stop(self):\n",
    "        print(\"двигатель остановлен\")\n",
    "class Car():\n",
    "    def __init__(self):\n",
    "        self.engine = Engine()\n",
    "    def start(self):\n",
    "        self.engine.start()\n",
    "    def stop(self):  \n",
    "        self.engine.stop()\n",
    "my_Car = Car()\n",
    "my_Car.start()\n",
    "my_Car.stop()"
   ]
  },
  {
   "cell_type": "code",
   "execution_count": 1,
   "metadata": {},
   "outputs": [],
   "source": [
    "class Teacher():\n",
    "    def teach(self):\n",
    "        print(\"преподаватель учит\")\n",
    "class School():\n",
    "    def __init__(self, new_teacher):\n",
    "        self.teacher = new_teacher\n",
    "    \n",
    "    \n",
    "    def start_lesson(self):\n",
    "        self.teacher.tech()\n",
    "\n",
    "my_teacher = Teacher()\n",
    "my_school = School(my_teacher)"
   ]
  },
  {
   "cell_type": "code",
   "execution_count": 3,
   "metadata": {},
   "outputs": [
    {
     "name": "stdout",
     "output_type": "stream",
     "text": [
      "gav\n",
      "mau\n"
     ]
    }
   ],
   "source": [
    "class Dog():\n",
    "    def speak(self):\n",
    "        return\"gav\"\n",
    "class Cat():\n",
    "    def speak(self):\n",
    "        return\"mau\"\n",
    "def animal_speak(animal):\n",
    "    print(animal.speak())\n",
    "dog = Dog()\n",
    "cat = Cat()\n",
    "\n",
    "animal_speak(dog)\n",
    "animal_speak(cat)"
   ]
  }
 ],
 "metadata": {
  "kernelspec": {
   "display_name": "base",
   "language": "python",
   "name": "python3"
  },
  "language_info": {
   "codemirror_mode": {
    "name": "ipython",
    "version": 3
   },
   "file_extension": ".py",
   "mimetype": "text/x-python",
   "name": "python",
   "nbconvert_exporter": "python",
   "pygments_lexer": "ipython3",
   "version": "3.12.7"
  }
 },
 "nbformat": 4,
 "nbformat_minor": 2
}
